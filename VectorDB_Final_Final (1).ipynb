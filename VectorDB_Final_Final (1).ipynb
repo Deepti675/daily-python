{
  "cells": [
    {
      "cell_type": "code",
      "execution_count": null,
      "metadata": {
        "colab": {
          "base_uri": "https://localhost:8080/"
        },
        "id": "gOT27Z2h02SG",
        "outputId": "aa31abcb-afe2-4ca7-f4c6-ee57c782ccd2"
      },
      "outputs": [
        {
          "name": "stdout",
          "output_type": "stream",
          "text": [
            "\u001b[?25l     \u001b[90m━━━━━━━━━━━━━━━━━━━━━━━━━━━━━━━━━━━━━━━━\u001b[0m \u001b[32m0.0/525.5 kB\u001b[0m \u001b[31m?\u001b[0m eta \u001b[36m-:--:--\u001b[0m\r\u001b[2K     \u001b[91m━━━━━━━━━━━━━━━━━━━━━━━━━━━━━━\u001b[0m\u001b[90m╺\u001b[0m\u001b[90m━━━━━━━━━\u001b[0m \u001b[32m399.4/525.5 kB\u001b[0m \u001b[31m12.0 MB/s\u001b[0m eta \u001b[36m0:00:01\u001b[0m\r\u001b[2K     \u001b[90m━━━━━━━━━━━━━━━━━━━━━━━━━━━━━━━━━━━━━━━━\u001b[0m \u001b[32m525.5/525.5 kB\u001b[0m \u001b[31m11.4 MB/s\u001b[0m eta \u001b[36m0:00:00\u001b[0m\n",
            "\u001b[2K     \u001b[90m━━━━━━━━━━━━━━━━━━━━━━━━━━━━━━━━━━━━━━━━\u001b[0m \u001b[32m2.4/2.4 MB\u001b[0m \u001b[31m80.8 MB/s\u001b[0m eta \u001b[36m0:00:00\u001b[0m\n",
            "\u001b[2K     \u001b[90m━━━━━━━━━━━━━━━━━━━━━━━━━━━━━━━━━━━━━━━━\u001b[0m \u001b[32m91.9/91.9 kB\u001b[0m \u001b[31m13.3 MB/s\u001b[0m eta \u001b[36m0:00:00\u001b[0m\n",
            "\u001b[2K     \u001b[90m━━━━━━━━━━━━━━━━━━━━━━━━━━━━━━━━━━━━━━━━\u001b[0m \u001b[32m60.8/60.8 kB\u001b[0m \u001b[31m9.4 MB/s\u001b[0m eta \u001b[36m0:00:00\u001b[0m\n",
            "\u001b[2K     \u001b[90m━━━━━━━━━━━━━━━━━━━━━━━━━━━━━━━━━━━━━━━━\u001b[0m \u001b[32m41.3/41.3 kB\u001b[0m \u001b[31m5.7 MB/s\u001b[0m eta \u001b[36m0:00:00\u001b[0m\n",
            "\u001b[2K     \u001b[90m━━━━━━━━━━━━━━━━━━━━━━━━━━━━━━━━━━━━━━━━\u001b[0m \u001b[32m5.4/5.4 MB\u001b[0m \u001b[31m85.8 MB/s\u001b[0m eta \u001b[36m0:00:00\u001b[0m\n",
            "\u001b[2K     \u001b[90m━━━━━━━━━━━━━━━━━━━━━━━━━━━━━━━━━━━━━━━━\u001b[0m \u001b[32m6.8/6.8 MB\u001b[0m \u001b[31m93.7 MB/s\u001b[0m eta \u001b[36m0:00:00\u001b[0m\n",
            "\u001b[2K     \u001b[90m━━━━━━━━━━━━━━━━━━━━━━━━━━━━━━━━━━━━━━━━\u001b[0m \u001b[32m60.1/60.1 kB\u001b[0m \u001b[31m6.3 MB/s\u001b[0m eta \u001b[36m0:00:00\u001b[0m\n",
            "\u001b[2K     \u001b[90m━━━━━━━━━━━━━━━━━━━━━━━━━━━━━━━━━━━━━━━━\u001b[0m \u001b[32m106.1/106.1 kB\u001b[0m \u001b[31m11.9 MB/s\u001b[0m eta \u001b[36m0:00:00\u001b[0m\n",
            "\u001b[2K     \u001b[90m━━━━━━━━━━━━━━━━━━━━━━━━━━━━━━━━━━━━━━━━\u001b[0m \u001b[32m67.3/67.3 kB\u001b[0m \u001b[31m7.9 MB/s\u001b[0m eta \u001b[36m0:00:00\u001b[0m\n",
            "\u001b[?25h  Installing build dependencies ... \u001b[?25l\u001b[?25hdone\n",
            "  Getting requirements to build wheel ... \u001b[?25l\u001b[?25hdone\n",
            "  Preparing metadata (pyproject.toml) ... \u001b[?25l\u001b[?25hdone\n",
            "\u001b[2K     \u001b[90m━━━━━━━━━━━━━━━━━━━━━━━━━━━━━━━━━━━━━━━━\u001b[0m \u001b[32m698.9/698.9 kB\u001b[0m \u001b[31m48.5 MB/s\u001b[0m eta \u001b[36m0:00:00\u001b[0m\n",
            "\u001b[2K     \u001b[90m━━━━━━━━━━━━━━━━━━━━━━━━━━━━━━━━━━━━━━━━\u001b[0m \u001b[32m1.6/1.6 MB\u001b[0m \u001b[31m60.5 MB/s\u001b[0m eta \u001b[36m0:00:00\u001b[0m\n",
            "\u001b[2K     \u001b[90m━━━━━━━━━━━━━━━━━━━━━━━━━━━━━━━━━━━━━━━━\u001b[0m \u001b[32m67.6/67.6 kB\u001b[0m \u001b[31m10.8 MB/s\u001b[0m eta \u001b[36m0:00:00\u001b[0m\n",
            "\u001b[2K     \u001b[90m━━━━━━━━━━━━━━━━━━━━━━━━━━━━━━━━━━━━━━━━\u001b[0m \u001b[32m144.8/144.8 kB\u001b[0m \u001b[31m20.0 MB/s\u001b[0m eta \u001b[36m0:00:00\u001b[0m\n",
            "\u001b[2K     \u001b[90m━━━━━━━━━━━━━━━━━━━━━━━━━━━━━━━━━━━━━━━━\u001b[0m \u001b[32m71.9/71.9 kB\u001b[0m \u001b[31m10.7 MB/s\u001b[0m eta \u001b[36m0:00:00\u001b[0m\n",
            "\u001b[2K     \u001b[90m━━━━━━━━━━━━━━━━━━━━━━━━━━━━━━━━━━━━━━━━\u001b[0m \u001b[32m46.0/46.0 kB\u001b[0m \u001b[31m6.7 MB/s\u001b[0m eta \u001b[36m0:00:00\u001b[0m\n",
            "\u001b[2K     \u001b[90m━━━━━━━━━━━━━━━━━━━━━━━━━━━━━━━━━━━━━━━━\u001b[0m \u001b[32m50.8/50.8 kB\u001b[0m \u001b[31m7.6 MB/s\u001b[0m eta \u001b[36m0:00:00\u001b[0m\n",
            "\u001b[2K     \u001b[90m━━━━━━━━━━━━━━━━━━━━━━━━━━━━━━━━━━━━━━━━\u001b[0m \u001b[32m58.3/58.3 kB\u001b[0m \u001b[31m8.9 MB/s\u001b[0m eta \u001b[36m0:00:00\u001b[0m\n",
            "\u001b[2K     \u001b[90m━━━━━━━━━━━━━━━━━━━━━━━━━━━━━━━━━━━━━━━━\u001b[0m \u001b[32m341.4/341.4 kB\u001b[0m \u001b[31m40.7 MB/s\u001b[0m eta \u001b[36m0:00:00\u001b[0m\n",
            "\u001b[2K     \u001b[90m━━━━━━━━━━━━━━━━━━━━━━━━━━━━━━━━━━━━━━━━\u001b[0m \u001b[32m3.4/3.4 MB\u001b[0m \u001b[31m105.1 MB/s\u001b[0m eta \u001b[36m0:00:00\u001b[0m\n",
            "\u001b[2K     \u001b[90m━━━━━━━━━━━━━━━━━━━━━━━━━━━━━━━━━━━━━━━━\u001b[0m \u001b[32m1.3/1.3 MB\u001b[0m \u001b[31m90.0 MB/s\u001b[0m eta \u001b[36m0:00:00\u001b[0m\n",
            "\u001b[2K     \u001b[90m━━━━━━━━━━━━━━━━━━━━━━━━━━━━━━━━━━━━━━━━\u001b[0m \u001b[32m130.2/130.2 kB\u001b[0m \u001b[31m16.0 MB/s\u001b[0m eta \u001b[36m0:00:00\u001b[0m\n",
            "\u001b[2K     \u001b[90m━━━━━━━━━━━━━━━━━━━━━━━━━━━━━━━━━━━━━━━━\u001b[0m \u001b[32m86.8/86.8 kB\u001b[0m \u001b[31m11.9 MB/s\u001b[0m eta \u001b[36m0:00:00\u001b[0m\n",
            "\u001b[?25h  Building wheel for pypika (pyproject.toml) ... \u001b[?25l\u001b[?25hdone\n",
            "\u001b[2K     \u001b[90m━━━━━━━━━━━━━━━━━━━━━━━━━━━━━━━━━━━━━━━━\u001b[0m \u001b[32m163.3/163.3 kB\u001b[0m \u001b[31m5.3 MB/s\u001b[0m eta \u001b[36m0:00:00\u001b[0m\n",
            "\u001b[2K     \u001b[90m━━━━━━━━━━━━━━━━━━━━━━━━━━━━━━━━━━━━━━━━\u001b[0m \u001b[32m23.7/23.7 MB\u001b[0m \u001b[31m13.2 MB/s\u001b[0m eta \u001b[36m0:00:00\u001b[0m\n",
            "\u001b[2K     \u001b[90m━━━━━━━━━━━━━━━━━━━━━━━━━━━━━━━━━━━━━━━━\u001b[0m \u001b[32m823.6/823.6 kB\u001b[0m \u001b[31m62.9 MB/s\u001b[0m eta \u001b[36m0:00:00\u001b[0m\n",
            "\u001b[2K     \u001b[90m━━━━━━━━━━━━━━━━━━━━━━━━━━━━━━━━━━━━━━━━\u001b[0m \u001b[32m14.1/14.1 MB\u001b[0m \u001b[31m89.1 MB/s\u001b[0m eta \u001b[36m0:00:00\u001b[0m\n",
            "\u001b[2K     \u001b[90m━━━━━━━━━━━━━━━━━━━━━━━━━━━━━━━━━━━━━━━━\u001b[0m \u001b[32m731.7/731.7 MB\u001b[0m \u001b[31m2.4 MB/s\u001b[0m eta \u001b[36m0:00:00\u001b[0m\n",
            "\u001b[2K     \u001b[90m━━━━━━━━━━━━━━━━━━━━━━━━━━━━━━━━━━━━━━━━\u001b[0m \u001b[32m410.6/410.6 MB\u001b[0m \u001b[31m4.1 MB/s\u001b[0m eta \u001b[36m0:00:00\u001b[0m\n",
            "\u001b[2K     \u001b[90m━━━━━━━━━━━━━━━━━━━━━━━━━━━━━━━━━━━━━━━━\u001b[0m \u001b[32m121.6/121.6 MB\u001b[0m \u001b[31m8.5 MB/s\u001b[0m eta \u001b[36m0:00:00\u001b[0m\n",
            "\u001b[2K     \u001b[90m━━━━━━━━━━━━━━━━━━━━━━━━━━━━━━━━━━━━━━━━\u001b[0m \u001b[32m56.5/56.5 MB\u001b[0m \u001b[31m11.3 MB/s\u001b[0m eta \u001b[36m0:00:00\u001b[0m\n",
            "\u001b[2K     \u001b[90m━━━━━━━━━━━━━━━━━━━━━━━━━━━━━━━━━━━━━━━━\u001b[0m \u001b[32m124.2/124.2 MB\u001b[0m \u001b[31m9.1 MB/s\u001b[0m eta \u001b[36m0:00:00\u001b[0m\n",
            "\u001b[2K     \u001b[90m━━━━━━━━━━━━━━━━━━━━━━━━━━━━━━━━━━━━━━━━\u001b[0m \u001b[32m196.0/196.0 MB\u001b[0m \u001b[31m6.5 MB/s\u001b[0m eta \u001b[36m0:00:00\u001b[0m\n",
            "\u001b[2K     \u001b[90m━━━━━━━━━━━━━━━━━━━━━━━━━━━━━━━━━━━━━━━━\u001b[0m \u001b[32m166.0/166.0 MB\u001b[0m \u001b[31m7.1 MB/s\u001b[0m eta \u001b[36m0:00:00\u001b[0m\n",
            "\u001b[2K     \u001b[90m━━━━━━━━━━━━━━━━━━━━━━━━━━━━━━━━━━━━━━━━\u001b[0m \u001b[32m99.1/99.1 kB\u001b[0m \u001b[31m14.2 MB/s\u001b[0m eta \u001b[36m0:00:00\u001b[0m\n",
            "\u001b[2K     \u001b[90m━━━━━━━━━━━━━━━━━━━━━━━━━━━━━━━━━━━━━━━━\u001b[0m \u001b[32m21.1/21.1 MB\u001b[0m \u001b[31m83.0 MB/s\u001b[0m eta \u001b[36m0:00:00\u001b[0m\n",
            "\u001b[?25h"
          ]
        }
      ],
      "source": [
        "!pip install chromadb -q\n",
        "!pip install sentence-transformers -q\n"
      ]
    },
    {
      "cell_type": "markdown",
      "metadata": {
        "id": "38ZefNX3CQWA"
      },
      "source": [
        "# **Final Section For Multiple CSV file**"
      ]
    },
    {
      "cell_type": "code",
      "execution_count": null,
      "metadata": {
        "id": "G1kmIRol2Uop"
      },
      "outputs": [],
      "source": [
        "import os\n",
        "import pandas as pd\n",
        "import chromadb\n",
        "\n",
        "# Folder containing CSV files\n",
        "folder_path = '/content/sample_data/data'\n",
        "\n",
        "# Initialize ChromaDB client\n",
        "client = chromadb.Client()\n",
        "\n",
        "# Create collection\n",
        "vector_collection = client.create_collection(\"s_kaggle\")\n",
        "\n",
        "def process_csv_file(csv_file_path):\n",
        "    # Try reading the file with different encodings\n",
        "    encodings = ['utf-8', 'latin1', 'windows-1252']\n",
        "    for encoding in encodings:\n",
        "        try:\n",
        "            # Load CSV file\n",
        "            df = pd.read_csv(csv_file_path, encoding=encoding)\n",
        "            df.dropna(inplace=True)\n",
        "\n",
        "            # Get column names\n",
        "            column_names = df.columns.tolist()\n",
        "\n",
        "            documents = []\n",
        "            metadatas = []\n",
        "            ids = []\n",
        "\n",
        "            for _, row in df.iterrows():\n",
        "                document = \"\"\n",
        "                metadata = {}\n",
        "                for col in column_names:\n",
        "                    if pd.notnull(row[col]):\n",
        "                        # Append non-null values to document\n",
        "                        document += str(row[col]) + \" \"\n",
        "                        # Add metadata\n",
        "                        metadata[col] = row[col]\n",
        "                documents.append(document.strip())  # Remove trailing space\n",
        "                metadatas.append(metadata)\n",
        "                ids.append(str(_ + 1))\n",
        "\n",
        "            # Add documents to collection\n",
        "            vector_collection.add(\n",
        "                documents=documents,\n",
        "                metadatas=metadatas,\n",
        "                ids=ids\n",
        "            )\n",
        "\n",
        "            # Successfully read the file, break out of the loop\n",
        "            break\n",
        "        except UnicodeDecodeError:\n",
        "            # If decoding error occurs, try the next encoding\n",
        "            continue\n",
        "\n",
        "# Iterate over each file in the folder\n",
        "for file_name in os.listdir(folder_path):\n",
        "    if file_name.endswith('.csv'):\n",
        "        csv_file_path = os.path.join(folder_path, file_name)\n",
        "        process_csv_file(csv_file_path)\n",
        "\n"
      ]
    },
    {
      "cell_type": "code",
      "execution_count": null,
      "metadata": {
        "id": "sGpFv9OV-CCp"
      },
      "outputs": [],
      "source": [
        "# Query the collection\n",
        "results = vector_collection.query(\n",
        "    query_texts=[\"Spirit of America\"],\n",
        "    n_results=3\n",
        ")\n"
      ]
    },
    {
      "cell_type": "code",
      "execution_count": null,
      "metadata": {
        "colab": {
          "base_uri": "https://localhost:8080/"
        },
        "id": "N0lLjvBP-DAo",
        "outputId": "14052f8f-c796-47ef-ecb2-7cbe6a3155c9"
      },
      "outputs": [
        {
          "name": "stdout",
          "output_type": "stream",
          "text": [
            "Id: 1\n",
            "Metadata: {'Car': 'Spirit of America', 'Col4': '8/5/63', 'Driver': 'Craig Breedlove', 'Engine Date': 'GE J47', 'Speed (mph)': 407.447}\n",
            "Description: 407.447 Craig Breedlove Spirit of America GE J47 8/5/63\n",
            "\n",
            "\n",
            "Id: 5\n",
            "Metadata: {'Car': 'Spirit of America', 'Col4': '10/15/65', 'Driver': 'Craig Breedlove', 'Engine Date': 'GE J79', 'Speed (mph)': 526.277}\n",
            "Description: 526.277 Craig Breedlove Spirit of America GE J79 10/15/65\n",
            "\n",
            "\n",
            "Id: 4\n",
            "Metadata: {'Car': 'Spirit of America', 'Col4': '10/13/64', 'Driver': 'Craig Breedlove', 'Engine Date': 'GE J79', 'Speed (mph)': 468.719}\n",
            "Description: 468.719 Craig Breedlove Spirit of America GE J79 10/13/64\n",
            "\n",
            "\n"
          ]
        }
      ],
      "source": [
        "# Display results\n",
        "if len(results['ids']) > 0:  # Check if there are results\n",
        "    for i in range(len(results['ids'][0])):\n",
        "        print('Id:', results['ids'][0][i])\n",
        "        print('Metadata:', results['metadatas'][0][i])\n",
        "        print('Description:', results['documents'][0][i])\n",
        "        print('\\n')\n",
        "else:\n",
        "    print(\"No results found.\")"
      ]
    },
    {
      "cell_type": "code",
      "execution_count": null,
      "metadata": {
        "id": "bu5ISl5bB_wF"
      },
      "outputs": [],
      "source": [
        "# Query the collection\n",
        "results = vector_collection.query(\n",
        "    query_texts=[\"Student name at Seven Class\"],\n",
        "    n_results=3\n",
        ")\n"
      ]
    },
    {
      "cell_type": "code",
      "execution_count": null,
      "metadata": {
        "colab": {
          "base_uri": "https://localhost:8080/"
        },
        "id": "N97vLlp8CBhM",
        "outputId": "733db789-be8e-47ba-a4d0-cdbe68d25aba"
      },
      "outputs": [
        {
          "name": "stdout",
          "output_type": "stream",
          "text": [
            "Id: 13\n",
            "Metadata: {'class': 'Seven', 'gender': 'female', 'id': 13, 'mark': 88, 'name': 'Kty'}\n",
            "Description: 13 Kty Seven 88 female\n",
            "\n",
            "\n",
            "Id: 14\n",
            "Metadata: {'class': 'Seven', 'gender': 'female', 'id': 14, 'mark': 88, 'name': 'Bigy'}\n",
            "Description: 14 Bigy Seven 88 female\n",
            "\n",
            "\n",
            "Id: 26\n",
            "Metadata: {'class': 'Seven', 'gender': 'male', 'id': 26, 'mark': 79, 'name': 'Crelea'}\n",
            "Description: 26 Crelea Seven 79 male\n",
            "\n",
            "\n"
          ]
        }
      ],
      "source": [
        "# Display results\n",
        "if len(results['ids']) > 0:  # Check if there are results\n",
        "    for i in range(len(results['ids'][0])):\n",
        "        print('Id:', results['ids'][0][i])\n",
        "        print('Metadata:', results['metadatas'][0][i])\n",
        "        print('Description:', results['documents'][0][i])\n",
        "        print('\\n')\n",
        "else:\n",
        "    print(\"No results found.\")"
      ]
    },
    {
      "cell_type": "markdown",
      "metadata": {
        "id": "76tnkRdI0V_z"
      },
      "source": [
        "# **New section**"
      ]
    },
    {
      "cell_type": "code",
      "execution_count": null,
      "metadata": {
        "id": "E90u9A4T1lBF"
      },
      "outputs": [],
      "source": [
        "!pip install langchain\n",
        "!pip install sentence-transformers"
      ]
    },
    {
      "cell_type": "code",
      "source": [
        "!pip install chromadb"
      ],
      "metadata": {
        "id": "k-iIMKXJLc_o"
      },
      "execution_count": null,
      "outputs": []
    },
    {
      "cell_type": "code",
      "execution_count": null,
      "metadata": {
        "id": "pDDRGUdF1MSH"
      },
      "outputs": [],
      "source": [
        "import os\n",
        "import pandas as pd\n",
        "import chromadb\n",
        "from langchain_community.embeddings import HuggingFaceEmbeddings\n",
        "from getpass import getpass\n",
        "from langchain.document_loaders import CSVLoader"
      ]
    },
    {
      "cell_type": "code",
      "execution_count": null,
      "metadata": {
        "colab": {
          "base_uri": "https://localhost:8080/"
        },
        "id": "1HryyV5I1NEG",
        "outputId": "4c694421-b390-4260-e9ab-7b07b490ae8c"
      },
      "outputs": [
        {
          "name": "stdout",
          "output_type": "stream",
          "text": [
            "··········\n"
          ]
        }
      ],
      "source": [
        "HUGGINGFACEHUB_API_TOKEN = getpass()"
      ]
    },
    {
      "cell_type": "code",
      "execution_count": null,
      "metadata": {
        "id": "3InC65O31QCP"
      },
      "outputs": [],
      "source": [
        "os.environ[\"HUGGINGFACEHUB_API_TOKEN\"] = HUGGINGFACEHUB_API_TOKEN"
      ]
    },
    {
      "cell_type": "code",
      "execution_count": null,
      "metadata": {
        "id": "h6f_aVHSHi7i"
      },
      "outputs": [],
      "source": [
        "embeddings = HuggingFaceEmbeddings()"
      ]
    },
    {
      "cell_type": "code",
      "source": [
        "import os\n",
        "from langchain.document_loaders import CSVLoader\n",
        "from langchain.vectorstores import Chroma\n",
        "\n",
        "folder_path = '/content/sample_data/data'\n",
        "embedded_docs = []\n",
        "ids = []\n",
        "for file_name in os.listdir(folder_path):\n",
        "    if file_name.endswith('.csv'):\n",
        "        file_path = os.path.join(folder_path, file_name)\n",
        "        loader = CSVLoader(file_path)\n",
        "        data = loader.load()\n",
        "        persist_directory = 'ob'\n",
        "        vectordb = Chroma.from_documents(documents=data,embedding=embeddings,persist_directory=persist_directory)\n",
        "        vectordb.persist()\n",
        "\n"
      ],
      "metadata": {
        "id": "PUt-hA0FJJcN"
      },
      "execution_count": null,
      "outputs": []
    },
    {
      "cell_type": "code",
      "source": [
        "vectordb = Chroma(persist_directory=persist_directory,embedding_function=embeddings)"
      ],
      "metadata": {
        "id": "_PnbfY90wTj6"
      },
      "execution_count": null,
      "outputs": []
    },
    {
      "cell_type": "code",
      "source": [
        "vectordb"
      ],
      "metadata": {
        "colab": {
          "base_uri": "https://localhost:8080/"
        },
        "id": "3dd1YVdqwYWt",
        "outputId": "1c6bcb4c-1c86-4fbc-fc49-e1994933ce0c"
      },
      "execution_count": null,
      "outputs": [
        {
          "output_type": "execute_result",
          "data": {
            "text/plain": [
              "<langchain_community.vectorstores.chroma.Chroma at 0x7fb4478f1cf0>"
            ]
          },
          "metadata": {},
          "execution_count": 105
        }
      ]
    },
    {
      "cell_type": "code",
      "source": [
        "retriever = vectordb.as_retriever()"
      ],
      "metadata": {
        "id": "cOBQt_T1wb3h"
      },
      "execution_count": null,
      "outputs": []
    },
    {
      "cell_type": "code",
      "source": [
        "docs = retriever.get_relevant_documents(\"class: Seven\")"
      ],
      "metadata": {
        "id": "-MwHg89nwefL"
      },
      "execution_count": null,
      "outputs": []
    },
    {
      "cell_type": "code",
      "source": [
        "for doc in docs:\n",
        "    print(doc.page_content)"
      ],
      "metadata": {
        "colab": {
          "base_uri": "https://localhost:8080/"
        },
        "id": "L-AI5LqI0mx8",
        "outputId": "e0d7e0de-d575-4b5a-b406-543944d3f4b7"
      },
      "execution_count": null,
      "outputs": [
        {
          "output_type": "stream",
          "name": "stdout",
          "text": [
            "id: 13\n",
            "name: Kty\n",
            "class: Seven\n",
            "mark: 88\n",
            "gender: female\n",
            "id: 14\n",
            "name: Bigy\n",
            "class: Seven\n",
            "mark: 88\n",
            "gender: female\n",
            "id: 29\n",
            "name: Tess Played\n",
            "class: Seven\n",
            "mark: 55\n",
            "gender: male\n",
            "id: 24\n",
            "name: Tiddy Now\n",
            "class: Seven\n",
            "mark: 78\n",
            "gender: male\n"
          ]
        }
      ]
    },
    {
      "cell_type": "code",
      "source": [
        "docs = retriever.get_relevant_documents(\"Species: Iris-setosa\")"
      ],
      "metadata": {
        "id": "nnVRb8AQw2Fk"
      },
      "execution_count": null,
      "outputs": []
    },
    {
      "cell_type": "code",
      "source": [
        "for doc in docs:\n",
        "    print(doc.page_content)"
      ],
      "metadata": {
        "colab": {
          "base_uri": "https://localhost:8080/"
        },
        "id": "yywn96z3w8p2",
        "outputId": "64034a99-bfa5-4f3e-a981-214e36fef096"
      },
      "execution_count": null,
      "outputs": [
        {
          "output_type": "stream",
          "name": "stdout",
          "text": [
            "Id: 9\n",
            "SepalLengthCm: 4.4\n",
            "SepalWidthCm: 2.9\n",
            "PetalLengthCm: 1.4\n",
            "PetalWidthCm: 0.2\n",
            "Species: Iris-setosa\n",
            "Id: 48\n",
            "SepalLengthCm: 4.6\n",
            "SepalWidthCm: 3.2\n",
            "PetalLengthCm: 1.4\n",
            "PetalWidthCm: 0.2\n",
            "Species: Iris-setosa\n",
            "Id: 32\n",
            "SepalLengthCm: 5.4\n",
            "SepalWidthCm: 3.4\n",
            "PetalLengthCm: 1.5\n",
            "PetalWidthCm: 0.4\n",
            "Species: Iris-setosa\n",
            "Id: 29\n",
            "SepalLengthCm: 5.2\n",
            "SepalWidthCm: 3.4\n",
            "PetalLengthCm: 1.4\n",
            "PetalWidthCm: 0.2\n",
            "Species: Iris-setosa\n"
          ]
        }
      ]
    },
    {
      "cell_type": "code",
      "source": [
        "docs = retriever.get_relevant_documents(\"airconditioning: yes\")"
      ],
      "metadata": {
        "id": "-EJz2ZBCxyU7"
      },
      "execution_count": null,
      "outputs": []
    },
    {
      "cell_type": "code",
      "source": [
        "for doc in docs:\n",
        "    print(doc.page_content)"
      ],
      "metadata": {
        "colab": {
          "base_uri": "https://localhost:8080/"
        },
        "id": "asCOYVOPyB_O",
        "outputId": "401824ed-20c2-4a63-94a7-07ad56e25f22"
      },
      "execution_count": null,
      "outputs": [
        {
          "output_type": "stream",
          "name": "stdout",
          "text": [
            "price: 6020000\n",
            "area: 8000\n",
            "bedrooms: 3\n",
            "bathrooms: 1\n",
            "stories: 1\n",
            "mainroad: yes\n",
            "guestroom: yes\n",
            "basement: yes\n",
            "hotwaterheating: no\n",
            "airconditioning: yes\n",
            "parking: 2\n",
            "prefarea: yes\n",
            "furnishingstatus: semi-furnished\n",
            "price: 6020000\n",
            "area: 6900\n",
            "bedrooms: 3\n",
            "bathrooms: 2\n",
            "stories: 1\n",
            "mainroad: yes\n",
            "guestroom: yes\n",
            "basement: yes\n",
            "hotwaterheating: no\n",
            "airconditioning: no\n",
            "parking: 0\n",
            "prefarea: yes\n",
            "furnishingstatus: unfurnished\n",
            "price: 5040000\n",
            "area: 6600\n",
            "bedrooms: 3\n",
            "bathrooms: 1\n",
            "stories: 1\n",
            "mainroad: yes\n",
            "guestroom: yes\n",
            "basement: yes\n",
            "hotwaterheating: no\n",
            "airconditioning: no\n",
            "parking: 0\n",
            "prefarea: yes\n",
            "furnishingstatus: furnished\n",
            "price: 5110000\n",
            "area: 3000\n",
            "bedrooms: 3\n",
            "bathrooms: 2\n",
            "stories: 2\n",
            "mainroad: yes\n",
            "guestroom: yes\n",
            "basement: yes\n",
            "hotwaterheating: no\n",
            "airconditioning: no\n",
            "parking: 0\n",
            "prefarea: no\n",
            "furnishingstatus: furnished\n"
          ]
        }
      ]
    },
    {
      "cell_type": "code",
      "source": [
        "docs = retriever.get_relevant_documents(\"Car: Spirit of America\")"
      ],
      "metadata": {
        "id": "Fen1SCqT3da8"
      },
      "execution_count": null,
      "outputs": []
    },
    {
      "cell_type": "code",
      "source": [
        "for doc in docs:\n",
        "    print(doc.page_content)"
      ],
      "metadata": {
        "colab": {
          "base_uri": "https://localhost:8080/"
        },
        "id": "8p4B9zSh3jLd",
        "outputId": "da097fde-cf6d-4a3e-9919-1b449bb535ad"
      },
      "execution_count": null,
      "outputs": [
        {
          "output_type": "stream",
          "name": "stdout",
          "text": [
            "Speed (mph): 407.447\n",
            "Driver: Craig Breedlove\n",
            "Car: Spirit of America\n",
            "Engine Date: GE J47\n",
            "Col4: 8/5/63\n",
            "Speed (mph): 526.277\n",
            "Driver: Craig Breedlove\n",
            "Car: Spirit of America\n",
            "Engine Date: GE J79\n",
            "Col4: 10/15/65\n",
            "Speed (mph): 468.719\n",
            "Driver: Craig Breedlove\n",
            "Car: Spirit of America\n",
            "Engine Date: GE J79\n",
            "Col4: 10/13/64\n",
            "Speed (mph): 555.127\n",
            "Driver: Craig Breedlove\n",
            "Car: Spirit of America, Sonic 1\n",
            "Engine Date: GE J79\n",
            "Col4: 11/2/65\n"
          ]
        }
      ]
    }
  ],
  "metadata": {
    "accelerator": "GPU",
    "colab": {
      "gpuType": "T4",
      "provenance": []
    },
    "kernelspec": {
      "display_name": "Python 3",
      "name": "python3"
    },
    "language_info": {
      "name": "python"
    }
  },
  "nbformat": 4,
  "nbformat_minor": 0
}