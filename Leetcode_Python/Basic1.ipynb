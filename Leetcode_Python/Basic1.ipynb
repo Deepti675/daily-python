{
  "nbformat": 4,
  "nbformat_minor": 0,
  "metadata": {
    "colab": {
      "provenance": [],
      "authorship_tag": "ABX9TyOnE+DDs1WocMo51WVvOlXb",
      "include_colab_link": true
    },
    "kernelspec": {
      "name": "python3",
      "display_name": "Python 3"
    },
    "language_info": {
      "name": "python"
    }
  },
  "cells": [
    {
      "cell_type": "markdown",
      "metadata": {
        "id": "view-in-github",
        "colab_type": "text"
      },
      "source": [
        "<a href=\"https://colab.research.google.com/github/Deepti675/daily-python/blob/main/Leetcode_Python/Basic1.ipynb\" target=\"_parent\"><img src=\"https://colab.research.google.com/assets/colab-badge.svg\" alt=\"Open In Colab\"/></a>"
      ]
    },
    {
      "cell_type": "markdown",
      "source": [
        "# **Python Tricks for Competitive Coding**"
      ],
      "metadata": {
        "id": "cWRZ_dF9Hs-s"
      }
    },
    {
      "cell_type": "code",
      "execution_count": null,
      "metadata": {
        "colab": {
          "base_uri": "https://localhost:8080/"
        },
        "id": "_BxYxvHNETcK",
        "outputId": "2f936d05-678e-4764-e5ed-673da84f3463"
      },
      "outputs": [
        {
          "output_type": "stream",
          "name": "stdout",
          "text": [
            "[(1, 3), (3, 2), (7, 2)]\n"
          ]
        }
      ],
      "source": [
        "# Code to find top 3 elements and their counts\n",
        "from collections import Counter\n",
        "arr = [1,3,4,1,1,5,6,7,2,3,2,8,9,7]\n",
        "counter=Counter(arr)\n",
        "top_three=counter.most_common(3)\n",
        "print(top_three)"
      ]
    },
    {
      "cell_type": "code",
      "source": [
        "# find 3 largest and 4 smallest\n",
        "import heapq\n",
        "greads =[110,25,38,49,20,95,33,87,80,90]\n",
        "print(heapq.nlargest(3,greads))\n",
        "print(heapq.nsmallest(4,greads))"
      ],
      "metadata": {
        "colab": {
          "base_uri": "https://localhost:8080/"
        },
        "id": "Ln7vcbvxE5cu",
        "outputId": "e8f8c563-9e04-4277-e345-e1ff6517df53"
      },
      "execution_count": null,
      "outputs": [
        {
          "output_type": "stream",
          "name": "stdout",
          "text": [
            "[110, 95, 90]\n",
            "[20, 25, 33, 38]\n"
          ]
        }
      ]
    },
    {
      "cell_type": "code",
      "source": [
        "# code to demonstrate use of zip\n",
        "import heapq\n",
        "stocks = {\n",
        "    'Goog':520.54,\n",
        "    'FB':76.45,\n",
        "    'yhoo':39.28,\n",
        "    'AMZN':306.21,\n",
        "    'APPL':99.76\n",
        "}\n",
        "\n",
        "zipped_1 = zip(stocks.values(),stocks.keys())\n",
        "print(sorted(zipped_1))\n",
        "zipped_2 = zip(stocks.keys(),stocks.values())\n",
        "print(sorted(zipped_2))"
      ],
      "metadata": {
        "colab": {
          "base_uri": "https://localhost:8080/"
        },
        "id": "Ear5QkamFjfS",
        "outputId": "5e40cd96-f947-4984-f624-92ddc7f44ad6"
      },
      "execution_count": null,
      "outputs": [
        {
          "output_type": "stream",
          "name": "stdout",
          "text": [
            "[(39.28, 'yhoo'), (76.45, 'FB'), (99.76, 'APPL'), (306.21, 'AMZN'), (520.54, 'Goog')]\n",
            "[('AMZN', 306.21), ('APPL', 99.76), ('FB', 76.45), ('Goog', 520.54), ('yhoo', 39.28)]\n"
          ]
        }
      ]
    },
    {
      "cell_type": "code",
      "source": [
        "# code to apply a function on a list\n",
        "income = [10,30,75]\n",
        "def double_money(dollers):\n",
        "  return dollers*2\n",
        "\n",
        "new_income = list(map(double_money,income))\n",
        "print(new_income)"
      ],
      "metadata": {
        "colab": {
          "base_uri": "https://localhost:8080/"
        },
        "id": "GdaGCEIlGmLW",
        "outputId": "9b2a42cf-5ef9-4981-e3f4-c8ad31eaba90"
      },
      "execution_count": null,
      "outputs": [
        {
          "output_type": "stream",
          "name": "stdout",
          "text": [
            "[20, 60, 150]\n"
          ]
        }
      ]
    },
    {
      "cell_type": "code",
      "source": [
        "# concatenation of list of strings\n",
        "strings = \"\"\n",
        "lst = [\"Geeks\", \"for\",\"Geeks\"]\n",
        "for i in lst:\n",
        "  strings+=i\n",
        "print(strings)"
      ],
      "metadata": {
        "colab": {
          "base_uri": "https://localhost:8080/"
        },
        "id": "opT6u8A9HDf6",
        "outputId": "af4ab965-df1e-4ab7-dd0c-0aca6baf64dd"
      },
      "execution_count": null,
      "outputs": [
        {
          "output_type": "stream",
          "name": "stdout",
          "text": [
            "GeeksforGeeks\n"
          ]
        }
      ]
    },
    {
      "cell_type": "code",
      "source": [
        "lst = [\"Geeks\", \"for\",\"Geeks\"]\n",
        "string = ''.join(lst)\n",
        "print(string)"
      ],
      "metadata": {
        "colab": {
          "base_uri": "https://localhost:8080/"
        },
        "id": "5OHc7bNhHfLU",
        "outputId": "99e53c57-b2f9-4b2a-bda1-d6a906807856"
      },
      "execution_count": null,
      "outputs": [
        {
          "output_type": "stream",
          "name": "stdout",
          "text": [
            "GeeksforGeeks\n"
          ]
        }
      ]
    },
    {
      "cell_type": "code",
      "source": [],
      "metadata": {
        "id": "Hapg5adgHqQf"
      },
      "execution_count": null,
      "outputs": []
    }
  ]
}