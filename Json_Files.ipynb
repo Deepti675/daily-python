{
  "cells": [
    {
      "cell_type": "code",
      "execution_count": null,
      "metadata": {
        "id": "JtXi69PXBBvd"
      },
      "outputs": [],
      "source": [
        "!pip install openai\n"
      ]
    },
    {
      "cell_type": "code",
      "execution_count": 12,
      "metadata": {
        "id": "ovRALwLLBFja"
      },
      "outputs": [],
      "source": [
        "def generate_json_prompt(doc_text):\n",
        "    prompt = f\"\"\"\n",
        "        You are an expert in clause extraction in context of contract related documents.\n",
        "        Generate a JSON representation of the document based on the following defined clauses:\n",
        "        1.   Supplier Name: The name of the company or entity providing the goods or services outlined in the contract.\n",
        "        2.   Contract Number: A unique identifier assigned to the contract, often used for tracking and reference purposes.\n",
        "        3.   Contract Type: The type of contract, such as a purchase agreement, service level agreement, or master services agreement.\n",
        "        4.   Contract Term and Value: The duration and total value of the contract, including any milestones, payment schedules, and performance metrics.\n",
        "        5.   Payment Terms: The schedule and method of payment for goods or services provided under the contract.\n",
        "        6.   Key obligations (BT): The key responsibilities and obligations of the buyer (buyer's organization) under the contract.\n",
        "        7.   Key obligations (Supplier): The key responsibilities and obligations of the supplier under the contract.\n",
        "        8.   SLAs and KPIs and their page numbers: Service Level Agreements (SLAs) and Key Performance Indicators (KPIs) that outline the standards for service delivery and performance metrics, along with the page numbers where they can be found in the contract.\n",
        "        9.   Service Credits: The penalties or incentives applied to the supplier for failing to meet service level agreements or performance targets.\n",
        "        10.  Milestone Clauses: Specific deadlines or milestones that must be met during the contract term, often tied to payment schedules or performance metrics.\n",
        "        11.  Liquidated Damages: A predetermined amount of damages that the supplier must pay to the buyer in the event of a breach of contract.\n",
        "        12.  Other Remedies: Additional remedies or consequences that may be applied in the event of a breach of contract, such as termination or specific performance.\n",
        "        13. Rebate Mechanism: A system for providing rebates or discounts to the buyer based on specific criteria, such as volume or spend.\n",
        "        14. Pricing Schedule: price validity period and price increase mechanism: The schedule outlining the pricing structure, including the duration of the pricing agreement and the process for adjusting prices.\n",
        "        15. Contract Commitments (Volume, Spend, Resource, etc.): The specific commitments or obligations of the supplier, such as volume commitments, spend targets, or resource allocation.\n",
        "        16. Forex & Commodity fluctuations: Clauses that address the impact of foreign exchange rate fluctuations or commodity price changes on the contract.\n",
        "        17. Contract Governance Model: The framework for managing and governing the contract, including roles, responsibilities, and decision-making processes.\n",
        "        18. Renewal Terms: The terms and conditions for renewing the contract, including notice periods, pricing, and performance metrics.\n",
        "        19. Exclusivity Clause(s): Clauses that restrict the supplier from providing similar goods or services to other buyers or entities.\n",
        "        20. Contract Liability Clauses: Clauses that address the liability of the supplier or buyer in the event of a breach of contract.\n",
        "        21. Termination Clauses (rollover, terminate for convenience, notice period): Clauses that outline the process for terminating the contract, including notice periods, rollover options, and termination fees.\n",
        "        22. Training Clauses (BT mandatory training, Supplier provided training): Clauses that outline the training requirements for the buyer or supplier, including mandatory training and supplier-provided training.\n",
        "        23. TUPE Clauses: Clauses that address the Transfer of Undertakings (Protection of Employment) regulations, which protect employee rights in the event of a change in ownership or control.\n",
        "        24. Intellectual Property Rights: Clauses that address the ownership and use of intellectual property, including patents, trademarks, and copyrights.\n",
        "        25. Amendment Number and Amendment Date: The unique identifier and date of any amendments or changes made to the original contract.\n",
        "         Document Text:\n",
        "        f{doc_text}\n",
        "        Sample JSON Output:\n",
        "        {{\n",
        "            <Clause Name>: {{\n",
        "                Original Text: <Pass the original text for the Clause from input paragraph as it is without any changes.>,\n",
        "                Summary: <Summarize the the Original Text>,\n",
        "                Details: <Exact details for any specific numerical term like amount, date, etc or any particular name of the party involved like company name>\n",
        "            }}\n",
        "        }}\n",
        "        Example 1:\n",
        "        Contract Term and Value: {{\n",
        "        Original Text: Contract Term: 2 years, Contract Value: $1,000,000,\n",
        "        Summary: The contract is for 2 years with a total value of $1,000,000.,\n",
        "        Details: Duration: 2 years, Value: $1,000,000\n",
        "    }}\n",
        "    Example 2:\n",
        "    \"Contract Number\": {{\n",
        "        \"Original Text\": \"Contract Number: 12345\",\n",
        "        \"Summary\": \"The contract is identified by the number 12345.\",\n",
        "        \"Details\": \"12345\"\n",
        "    }}\n",
        "    Example 3:\n",
        "     \"Supplier Name\": {{\n",
        "        \"Original Text\": \"Supplier Name: BT Company\",\n",
        "        \"Summary\": \"Supplier Name is BT Company.\",\n",
        "        \"Details\": \"BT Company\"\n",
        "    }}\n",
        "\n",
        "        \"### If Clause is not found in the document then consider it as NONE ###\"\n",
        "    )\n",
        "    \"\"\"\n",
        "    return prompt\n"
      ]
    },
    {
      "cell_type": "code",
      "execution_count": 30,
      "metadata": {
        "id": "Rqq1vdueP5VV"
      },
      "outputs": [],
      "source": [
        "from openai import OpenAI\n",
        "\n",
        "client = OpenAI(\n",
        "\n",
        "    api_key=\"\",\n",
        ")\n",
        "\n",
        "def chat_gpt(prompt):\n",
        "    response = client.chat.completions.create(\n",
        "        model=\"gpt-3.5-turbo\",\n",
        "        messages=[{\"role\": \"user\", \"content\": prompt}],\n",
        "        temperature=0.9,\n",
        "        presence_penalty=0.3\n",
        "    )\n",
        "    return response.choices[0].message.content.strip()"
      ]
    },
    {
      "cell_type": "code",
      "execution_count": 25,
      "metadata": {
        "colab": {
          "base_uri": "https://localhost:8080/"
        },
        "id": "n-_8X0Nv4LWp",
        "outputId": "d7d50c5e-2f7d-44a7-d152-be9efce36700"
      },
      "outputs": [
        {
          "name": "stdout",
          "output_type": "stream",
          "text": [
            "JSON stored in: /content/sample_data/json_output/A01 Appendix 1 - P-Router - Description of Supplies Final 4_4_14.pdf.json\n",
            "JSON stored in: /content/sample_data/json_output/BT Amendment 14.pdf.json\n",
            "JSON stored in: /content/sample_data/json_output/CA 099 Management of Bulk Purchase Orders - signed.pdf.json\n",
            "JSON stored in: /content/sample_data/json_output/CA013 bill and hold Q4 v2 - signed.pdf.json\n",
            "JSON stored in: /content/sample_data/json_output/CA60 Additional capex saving 17-18 final version - signed.pdf.json\n"
          ]
        }
      ],
      "source": [
        "import os\n",
        "\n",
        "file_paths = [\n",
        "    '/content/sample_data/Input/A01 Appendix 1 - P-Router - Description of Supplies Final 4_4_14.pdf.txt',\n",
        "    '/content/sample_data/Input/BT Amendment 14.pdf.txt',\n",
        "    '/content/sample_data/Input/CA 099 Management of Bulk Purchase Orders - signed.pdf.txt',\n",
        "    '/content/sample_data/Input/CA013 bill and hold Q4 v2 - signed.pdf.txt',\n",
        "    '/content/sample_data/Input/CA60 Additional capex saving 17-18 final version - signed.pdf.txt'\n",
        "]\n",
        "\n",
        "\n",
        "base_path = \"/content/sample_data/json_output/\"\n",
        "\n",
        "\n",
        "os.makedirs(base_path, exist_ok=True)\n",
        "\n",
        "\n",
        "def read_file_content(file_path):\n",
        "    with open(file_path, 'r') as file:\n",
        "        return file.read()\n",
        "\n",
        "\n",
        "def process_document(text, output_file):\n",
        "    prompt = generate_json_prompt(text)\n",
        "    response = chat_gpt(prompt)\n",
        "    with open(output_file, 'w') as f:\n",
        "        f.write(response)\n",
        "\n",
        "\n",
        "for file_path in file_paths:\n",
        "    text = read_file_content(file_path)\n",
        "    base_name = os.path.basename(file_path)\n",
        "    output_file = os.path.join(base_path, f\"{os.path.splitext(base_name)[0]}.json\")\n",
        "    process_document(text, output_file)\n",
        "    print(f\"JSON stored in: {output_file}\")\n"
      ]
    }
  ],
  "metadata": {
    "colab": {
      "provenance": []
    },
    "kernelspec": {
      "display_name": "Python 3",
      "name": "python3"
    },
    "language_info": {
      "name": "python"
    }
  },
  "nbformat": 4,
  "nbformat_minor": 0
}
